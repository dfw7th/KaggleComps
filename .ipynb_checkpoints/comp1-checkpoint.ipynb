{
 "cells": [
  {
   "cell_type": "code",
   "execution_count": 21,
   "id": "c60c4583-d6fe-4e5a-b785-a103db16605c",
   "metadata": {},
   "outputs": [],
   "source": [
    "import pandas as pd\n",
    "import numpy as np\n",
    "from scipy import stats as st\n",
    "\n",
    "import matplotlib.pyplot as plt\n",
    "import seaborn as sns\n",
    "\n",
    "from sklearn.model_selection import train_test_split, cross_val_score\n",
    "from sklearn.impute import SimpleImputer\n",
    "from sklearn.preprocessing import StandardScaler, OneHotEncoder, OrdinalEncoder\n",
    "from sklearn.pipeline import Pipeline\n",
    "from sklearn.compose import ColumnTransformer\n",
    "from sklearn.linear_model import LinearRegression\n",
    "from sklearn.metrics import mean_squared_error"
   ]
  },
  {
   "cell_type": "code",
   "execution_count": 5,
   "id": "646d7ac3-0500-4c91-84f2-cfba7286f544",
   "metadata": {},
   "outputs": [],
   "source": [
    "train_data = pd.read_csv(\"/home/fw7th/Documents/ML_datasets/Kaggle_comp/playground-series-s4e12/train.csv\")\n",
    "test_data = pd.read_csv(\"/home/fw7th/Documents/ML_datasets/Kaggle_comp/playground-series-s4e12/test.csv\")"
   ]
  },
  {
   "cell_type": "code",
   "execution_count": 9,
   "id": "16a81d43-0281-461d-8cf0-1e6ab1421372",
   "metadata": {},
   "outputs": [],
   "source": [
    "train_df, test_df = train_test_split(train_data, test_size=0.2, random_state=42)"
   ]
  },
  {
   "cell_type": "code",
   "execution_count": 10,
   "id": "ad8834fe-68b9-4095-9346-91bba7c1d1d8",
   "metadata": {},
   "outputs": [
    {
     "name": "stdout",
     "output_type": "stream",
     "text": [
      "<class 'pandas.core.frame.DataFrame'>\n",
      "Index: 960000 entries, 404339 to 121958\n",
      "Data columns (total 21 columns):\n",
      " #   Column                Non-Null Count   Dtype  \n",
      "---  ------                --------------   -----  \n",
      " 0   id                    960000 non-null  int64  \n",
      " 1   Age                   944952 non-null  float64\n",
      " 2   Gender                960000 non-null  object \n",
      " 3   Annual Income         924086 non-null  float64\n",
      " 4   Marital Status        945137 non-null  object \n",
      " 5   Number of Dependents  872136 non-null  float64\n",
      " 6   Education Level       960000 non-null  object \n",
      " 7   Occupation            673379 non-null  object \n",
      " 8   Health Score          900671 non-null  float64\n",
      " 9   Location              960000 non-null  object \n",
      " 10  Policy Type           960000 non-null  object \n",
      " 11  Previous Claims       668845 non-null  float64\n",
      " 12  Vehicle Age           959996 non-null  float64\n",
      " 13  Credit Score          849726 non-null  float64\n",
      " 14  Insurance Duration    959999 non-null  float64\n",
      " 15  Policy Start Date     960000 non-null  object \n",
      " 16  Customer Feedback     897705 non-null  object \n",
      " 17  Smoking Status        960000 non-null  object \n",
      " 18  Exercise Frequency    960000 non-null  object \n",
      " 19  Property Type         960000 non-null  object \n",
      " 20  Premium Amount        960000 non-null  float64\n",
      "dtypes: float64(9), int64(1), object(11)\n",
      "memory usage: 161.1+ MB\n"
     ]
    }
   ],
   "source": [
    "train_df.info()"
   ]
  },
  {
   "cell_type": "code",
   "execution_count": 11,
   "id": "0967ef75-1ffa-4904-a407-cdef4f833371",
   "metadata": {},
   "outputs": [
    {
     "data": {
      "text/plain": [
       "Index(['id', 'Age', 'Gender', 'Annual Income', 'Marital Status',\n",
       "       'Number of Dependents', 'Education Level', 'Occupation', 'Health Score',\n",
       "       'Location', 'Policy Type', 'Previous Claims', 'Vehicle Age',\n",
       "       'Credit Score', 'Insurance Duration', 'Policy Start Date',\n",
       "       'Customer Feedback', 'Smoking Status', 'Exercise Frequency',\n",
       "       'Property Type', 'Premium Amount'],\n",
       "      dtype='object')"
      ]
     },
     "execution_count": 11,
     "metadata": {},
     "output_type": "execute_result"
    }
   ],
   "source": [
    "train_df.columns"
   ]
  },
  {
   "cell_type": "code",
   "execution_count": 13,
   "id": "8ca45968-bbab-4b84-92f2-aea6b5ba6545",
   "metadata": {},
   "outputs": [
    {
     "data": {
      "text/html": [
       "<div>\n",
       "<style scoped>\n",
       "    .dataframe tbody tr th:only-of-type {\n",
       "        vertical-align: middle;\n",
       "    }\n",
       "\n",
       "    .dataframe tbody tr th {\n",
       "        vertical-align: top;\n",
       "    }\n",
       "\n",
       "    .dataframe thead th {\n",
       "        text-align: right;\n",
       "    }\n",
       "</style>\n",
       "<table border=\"1\" class=\"dataframe\">\n",
       "  <thead>\n",
       "    <tr style=\"text-align: right;\">\n",
       "      <th></th>\n",
       "      <th>id</th>\n",
       "      <th>Age</th>\n",
       "      <th>Gender</th>\n",
       "      <th>Annual Income</th>\n",
       "      <th>Marital Status</th>\n",
       "      <th>Number of Dependents</th>\n",
       "      <th>Education Level</th>\n",
       "      <th>Occupation</th>\n",
       "      <th>Health Score</th>\n",
       "      <th>Location</th>\n",
       "      <th>...</th>\n",
       "      <th>Previous Claims</th>\n",
       "      <th>Vehicle Age</th>\n",
       "      <th>Credit Score</th>\n",
       "      <th>Insurance Duration</th>\n",
       "      <th>Policy Start Date</th>\n",
       "      <th>Customer Feedback</th>\n",
       "      <th>Smoking Status</th>\n",
       "      <th>Exercise Frequency</th>\n",
       "      <th>Property Type</th>\n",
       "      <th>Premium Amount</th>\n",
       "    </tr>\n",
       "  </thead>\n",
       "  <tbody>\n",
       "    <tr>\n",
       "      <th>404339</th>\n",
       "      <td>404339</td>\n",
       "      <td>45.0</td>\n",
       "      <td>Male</td>\n",
       "      <td>91315.0</td>\n",
       "      <td>Divorced</td>\n",
       "      <td>3.0</td>\n",
       "      <td>Bachelor's</td>\n",
       "      <td>NaN</td>\n",
       "      <td>43.926883</td>\n",
       "      <td>Urban</td>\n",
       "      <td>...</td>\n",
       "      <td>NaN</td>\n",
       "      <td>1.0</td>\n",
       "      <td>311.0</td>\n",
       "      <td>2.0</td>\n",
       "      <td>2024-08-11 15:21:39.134960</td>\n",
       "      <td>Poor</td>\n",
       "      <td>No</td>\n",
       "      <td>Rarely</td>\n",
       "      <td>House</td>\n",
       "      <td>2386.0</td>\n",
       "    </tr>\n",
       "    <tr>\n",
       "      <th>748487</th>\n",
       "      <td>748487</td>\n",
       "      <td>51.0</td>\n",
       "      <td>Female</td>\n",
       "      <td>5280.0</td>\n",
       "      <td>Married</td>\n",
       "      <td>1.0</td>\n",
       "      <td>PhD</td>\n",
       "      <td>NaN</td>\n",
       "      <td>41.854227</td>\n",
       "      <td>Rural</td>\n",
       "      <td>...</td>\n",
       "      <td>NaN</td>\n",
       "      <td>1.0</td>\n",
       "      <td>634.0</td>\n",
       "      <td>8.0</td>\n",
       "      <td>2020-06-20 15:21:39.098696</td>\n",
       "      <td>Poor</td>\n",
       "      <td>Yes</td>\n",
       "      <td>Monthly</td>\n",
       "      <td>Condo</td>\n",
       "      <td>285.0</td>\n",
       "    </tr>\n",
       "    <tr>\n",
       "      <th>435951</th>\n",
       "      <td>435951</td>\n",
       "      <td>48.0</td>\n",
       "      <td>Female</td>\n",
       "      <td>41318.0</td>\n",
       "      <td>Divorced</td>\n",
       "      <td>0.0</td>\n",
       "      <td>Master's</td>\n",
       "      <td>NaN</td>\n",
       "      <td>51.750192</td>\n",
       "      <td>Urban</td>\n",
       "      <td>...</td>\n",
       "      <td>1.0</td>\n",
       "      <td>12.0</td>\n",
       "      <td>759.0</td>\n",
       "      <td>9.0</td>\n",
       "      <td>2021-02-05 15:21:39.134960</td>\n",
       "      <td>Poor</td>\n",
       "      <td>Yes</td>\n",
       "      <td>Rarely</td>\n",
       "      <td>Condo</td>\n",
       "      <td>654.0</td>\n",
       "    </tr>\n",
       "    <tr>\n",
       "      <th>311284</th>\n",
       "      <td>311284</td>\n",
       "      <td>43.0</td>\n",
       "      <td>Female</td>\n",
       "      <td>30372.0</td>\n",
       "      <td>Divorced</td>\n",
       "      <td>0.0</td>\n",
       "      <td>PhD</td>\n",
       "      <td>Unemployed</td>\n",
       "      <td>20.666786</td>\n",
       "      <td>Urban</td>\n",
       "      <td>...</td>\n",
       "      <td>2.0</td>\n",
       "      <td>8.0</td>\n",
       "      <td>460.0</td>\n",
       "      <td>1.0</td>\n",
       "      <td>2022-11-11 15:21:39.093681</td>\n",
       "      <td>Average</td>\n",
       "      <td>No</td>\n",
       "      <td>Monthly</td>\n",
       "      <td>Condo</td>\n",
       "      <td>1095.0</td>\n",
       "    </tr>\n",
       "    <tr>\n",
       "      <th>318790</th>\n",
       "      <td>318790</td>\n",
       "      <td>18.0</td>\n",
       "      <td>Male</td>\n",
       "      <td>12891.0</td>\n",
       "      <td>Married</td>\n",
       "      <td>NaN</td>\n",
       "      <td>Bachelor's</td>\n",
       "      <td>NaN</td>\n",
       "      <td>36.995102</td>\n",
       "      <td>Urban</td>\n",
       "      <td>...</td>\n",
       "      <td>NaN</td>\n",
       "      <td>18.0</td>\n",
       "      <td>831.0</td>\n",
       "      <td>3.0</td>\n",
       "      <td>2021-01-01 15:21:39.095696</td>\n",
       "      <td>Poor</td>\n",
       "      <td>Yes</td>\n",
       "      <td>Monthly</td>\n",
       "      <td>Apartment</td>\n",
       "      <td>1334.0</td>\n",
       "    </tr>\n",
       "  </tbody>\n",
       "</table>\n",
       "<p>5 rows × 21 columns</p>\n",
       "</div>"
      ],
      "text/plain": [
       "            id   Age  Gender  Annual Income Marital Status  \\\n",
       "404339  404339  45.0    Male        91315.0       Divorced   \n",
       "748487  748487  51.0  Female         5280.0        Married   \n",
       "435951  435951  48.0  Female        41318.0       Divorced   \n",
       "311284  311284  43.0  Female        30372.0       Divorced   \n",
       "318790  318790  18.0    Male        12891.0        Married   \n",
       "\n",
       "        Number of Dependents Education Level  Occupation  Health Score  \\\n",
       "404339                   3.0      Bachelor's         NaN     43.926883   \n",
       "748487                   1.0             PhD         NaN     41.854227   \n",
       "435951                   0.0        Master's         NaN     51.750192   \n",
       "311284                   0.0             PhD  Unemployed     20.666786   \n",
       "318790                   NaN      Bachelor's         NaN     36.995102   \n",
       "\n",
       "       Location  ... Previous Claims  Vehicle Age  Credit Score  \\\n",
       "404339    Urban  ...             NaN          1.0         311.0   \n",
       "748487    Rural  ...             NaN          1.0         634.0   \n",
       "435951    Urban  ...             1.0         12.0         759.0   \n",
       "311284    Urban  ...             2.0          8.0         460.0   \n",
       "318790    Urban  ...             NaN         18.0         831.0   \n",
       "\n",
       "        Insurance Duration           Policy Start Date Customer Feedback  \\\n",
       "404339                 2.0  2024-08-11 15:21:39.134960              Poor   \n",
       "748487                 8.0  2020-06-20 15:21:39.098696              Poor   \n",
       "435951                 9.0  2021-02-05 15:21:39.134960              Poor   \n",
       "311284                 1.0  2022-11-11 15:21:39.093681           Average   \n",
       "318790                 3.0  2021-01-01 15:21:39.095696              Poor   \n",
       "\n",
       "       Smoking Status Exercise Frequency Property Type Premium Amount  \n",
       "404339             No             Rarely         House         2386.0  \n",
       "748487            Yes            Monthly         Condo          285.0  \n",
       "435951            Yes             Rarely         Condo          654.0  \n",
       "311284             No            Monthly         Condo         1095.0  \n",
       "318790            Yes            Monthly     Apartment         1334.0  \n",
       "\n",
       "[5 rows x 21 columns]"
      ]
     },
     "execution_count": 13,
     "metadata": {},
     "output_type": "execute_result"
    }
   ],
   "source": [
    "train_df.head()"
   ]
  },
  {
   "cell_type": "code",
   "execution_count": 12,
   "id": "c4b33195-907b-4a7e-9516-b6901fdc7376",
   "metadata": {},
   "outputs": [
    {
     "data": {
      "text/html": [
       "<div>\n",
       "<style scoped>\n",
       "    .dataframe tbody tr th:only-of-type {\n",
       "        vertical-align: middle;\n",
       "    }\n",
       "\n",
       "    .dataframe tbody tr th {\n",
       "        vertical-align: top;\n",
       "    }\n",
       "\n",
       "    .dataframe thead th {\n",
       "        text-align: right;\n",
       "    }\n",
       "</style>\n",
       "<table border=\"1\" class=\"dataframe\">\n",
       "  <thead>\n",
       "    <tr style=\"text-align: right;\">\n",
       "      <th></th>\n",
       "      <th>id</th>\n",
       "      <th>Age</th>\n",
       "      <th>Annual Income</th>\n",
       "      <th>Number of Dependents</th>\n",
       "      <th>Health Score</th>\n",
       "      <th>Previous Claims</th>\n",
       "      <th>Vehicle Age</th>\n",
       "      <th>Credit Score</th>\n",
       "      <th>Insurance Duration</th>\n",
       "      <th>Premium Amount</th>\n",
       "    </tr>\n",
       "  </thead>\n",
       "  <tbody>\n",
       "    <tr>\n",
       "      <th>count</th>\n",
       "      <td>9.600000e+05</td>\n",
       "      <td>944952.000000</td>\n",
       "      <td>924086.000000</td>\n",
       "      <td>872136.000000</td>\n",
       "      <td>900671.000000</td>\n",
       "      <td>668845.000000</td>\n",
       "      <td>959996.000000</td>\n",
       "      <td>849726.000000</td>\n",
       "      <td>959999.000000</td>\n",
       "      <td>960000.000000</td>\n",
       "    </tr>\n",
       "    <tr>\n",
       "      <th>mean</th>\n",
       "      <td>5.999193e+05</td>\n",
       "      <td>41.153924</td>\n",
       "      <td>32746.553583</td>\n",
       "      <td>2.008001</td>\n",
       "      <td>25.617870</td>\n",
       "      <td>1.003576</td>\n",
       "      <td>9.572251</td>\n",
       "      <td>592.988834</td>\n",
       "      <td>5.015500</td>\n",
       "      <td>1102.505529</td>\n",
       "    </tr>\n",
       "    <tr>\n",
       "      <th>std</th>\n",
       "      <td>3.464618e+05</td>\n",
       "      <td>13.535243</td>\n",
       "      <td>32186.069992</td>\n",
       "      <td>1.417227</td>\n",
       "      <td>12.206051</td>\n",
       "      <td>0.983616</td>\n",
       "      <td>5.774526</td>\n",
       "      <td>149.952656</td>\n",
       "      <td>2.594761</td>\n",
       "      <td>865.134312</td>\n",
       "    </tr>\n",
       "    <tr>\n",
       "      <th>min</th>\n",
       "      <td>0.000000e+00</td>\n",
       "      <td>18.000000</td>\n",
       "      <td>1.000000</td>\n",
       "      <td>0.000000</td>\n",
       "      <td>2.012237</td>\n",
       "      <td>0.000000</td>\n",
       "      <td>0.000000</td>\n",
       "      <td>300.000000</td>\n",
       "      <td>1.000000</td>\n",
       "      <td>20.000000</td>\n",
       "    </tr>\n",
       "    <tr>\n",
       "      <th>25%</th>\n",
       "      <td>2.997078e+05</td>\n",
       "      <td>30.000000</td>\n",
       "      <td>7991.000000</td>\n",
       "      <td>1.000000</td>\n",
       "      <td>15.919431</td>\n",
       "      <td>0.000000</td>\n",
       "      <td>5.000000</td>\n",
       "      <td>468.000000</td>\n",
       "      <td>3.000000</td>\n",
       "      <td>514.000000</td>\n",
       "    </tr>\n",
       "    <tr>\n",
       "      <th>50%</th>\n",
       "      <td>6.002270e+05</td>\n",
       "      <td>41.000000</td>\n",
       "      <td>23935.500000</td>\n",
       "      <td>2.000000</td>\n",
       "      <td>24.587778</td>\n",
       "      <td>1.000000</td>\n",
       "      <td>10.000000</td>\n",
       "      <td>595.000000</td>\n",
       "      <td>5.000000</td>\n",
       "      <td>872.000000</td>\n",
       "    </tr>\n",
       "    <tr>\n",
       "      <th>75%</th>\n",
       "      <td>8.997612e+05</td>\n",
       "      <td>53.000000</td>\n",
       "      <td>44635.000000</td>\n",
       "      <td>3.000000</td>\n",
       "      <td>34.539742</td>\n",
       "      <td>2.000000</td>\n",
       "      <td>15.000000</td>\n",
       "      <td>721.000000</td>\n",
       "      <td>7.000000</td>\n",
       "      <td>1508.000000</td>\n",
       "    </tr>\n",
       "    <tr>\n",
       "      <th>max</th>\n",
       "      <td>1.199999e+06</td>\n",
       "      <td>64.000000</td>\n",
       "      <td>149997.000000</td>\n",
       "      <td>4.000000</td>\n",
       "      <td>58.975914</td>\n",
       "      <td>8.000000</td>\n",
       "      <td>19.000000</td>\n",
       "      <td>849.000000</td>\n",
       "      <td>9.000000</td>\n",
       "      <td>4999.000000</td>\n",
       "    </tr>\n",
       "  </tbody>\n",
       "</table>\n",
       "</div>"
      ],
      "text/plain": [
       "                 id            Age  Annual Income  Number of Dependents  \\\n",
       "count  9.600000e+05  944952.000000  924086.000000         872136.000000   \n",
       "mean   5.999193e+05      41.153924   32746.553583              2.008001   \n",
       "std    3.464618e+05      13.535243   32186.069992              1.417227   \n",
       "min    0.000000e+00      18.000000       1.000000              0.000000   \n",
       "25%    2.997078e+05      30.000000    7991.000000              1.000000   \n",
       "50%    6.002270e+05      41.000000   23935.500000              2.000000   \n",
       "75%    8.997612e+05      53.000000   44635.000000              3.000000   \n",
       "max    1.199999e+06      64.000000  149997.000000              4.000000   \n",
       "\n",
       "        Health Score  Previous Claims    Vehicle Age   Credit Score  \\\n",
       "count  900671.000000    668845.000000  959996.000000  849726.000000   \n",
       "mean       25.617870         1.003576       9.572251     592.988834   \n",
       "std        12.206051         0.983616       5.774526     149.952656   \n",
       "min         2.012237         0.000000       0.000000     300.000000   \n",
       "25%        15.919431         0.000000       5.000000     468.000000   \n",
       "50%        24.587778         1.000000      10.000000     595.000000   \n",
       "75%        34.539742         2.000000      15.000000     721.000000   \n",
       "max        58.975914         8.000000      19.000000     849.000000   \n",
       "\n",
       "       Insurance Duration  Premium Amount  \n",
       "count       959999.000000   960000.000000  \n",
       "mean             5.015500     1102.505529  \n",
       "std              2.594761      865.134312  \n",
       "min              1.000000       20.000000  \n",
       "25%              3.000000      514.000000  \n",
       "50%              5.000000      872.000000  \n",
       "75%              7.000000     1508.000000  \n",
       "max              9.000000     4999.000000  "
      ]
     },
     "execution_count": 12,
     "metadata": {},
     "output_type": "execute_result"
    }
   ],
   "source": [
    "train_df.describe()"
   ]
  },
  {
   "cell_type": "code",
   "execution_count": 25,
   "id": "3a348c89-cfc9-405a-9db6-ea0612b1ea39",
   "metadata": {},
   "outputs": [
    {
     "data": {
      "text/plain": [
       "Previous Claims         291155\n",
       "Occupation              286621\n",
       "Credit Score            110274\n",
       "Number of Dependents     87864\n",
       "Customer Feedback        62295\n",
       "Health Score             59329\n",
       "Annual Income            35914\n",
       "Age                      15048\n",
       "Marital Status           14863\n",
       "Vehicle Age                  4\n",
       "Insurance Duration           1\n",
       "id                           0\n",
       "Property Type                0\n",
       "Exercise Frequency           0\n",
       "Smoking Status               0\n",
       "Policy Type                  0\n",
       "Policy Start Date            0\n",
       "Location                     0\n",
       "Education Level              0\n",
       "Gender                       0\n",
       "dtype: int64"
      ]
     },
     "execution_count": 25,
     "metadata": {},
     "output_type": "execute_result"
    }
   ],
   "source": [
    "train_df.isnull().sum().sort_values(ascending=False).head(20)"
   ]
  },
  {
   "cell_type": "code",
   "execution_count": 14,
   "id": "67364a98-dfd0-4fb2-9de9-37ff29e74ddc",
   "metadata": {},
   "outputs": [
    {
     "data": {
      "text/plain": [
       "id                        int64\n",
       "Age                     float64\n",
       "Annual Income           float64\n",
       "Number of Dependents    float64\n",
       "Health Score            float64\n",
       "Previous Claims         float64\n",
       "Vehicle Age             float64\n",
       "Credit Score            float64\n",
       "Insurance Duration      float64\n",
       "Premium Amount          float64\n",
       "dtype: object"
      ]
     },
     "execution_count": 14,
     "metadata": {},
     "output_type": "execute_result"
    }
   ],
   "source": [
    "train_df.dtypes[train_df.dtypes != \"object\"]"
   ]
  },
  {
   "cell_type": "code",
   "execution_count": 41,
   "id": "245ac3ea-8308-43ee-9f51-654a53998820",
   "metadata": {},
   "outputs": [
    {
     "data": {
      "text/plain": [
       "<matplotlib.collections.PathCollection at 0x708d126a2e90>"
      ]
     },
     "execution_count": 41,
     "metadata": {},
     "output_type": "execute_result"
    },
    {
     "data": {
      "image/png": "[encoded data removed]",
      "text/plain": [
       "<Figure size 640x480 with 1 Axes>"
      ]
     },
     "metadata": {},
     "output_type": "display_data"
    }
   ],
   "source": [
    "plt.scatter(data = train_df, x=\"Age\", y=\"Premium Amount\")"
   ]
  },
  {
   "cell_type": "code",
   "execution_count": 31,
   "id": "48777119-50d7-4625-ba41-2f3fa6718c24",
   "metadata": {},
   "outputs": [
    {
     "data": {
      "text/plain": [
       "187520     1.687896\n",
       "706780     1.687896\n",
       "958704     1.687896\n",
       "500838     1.687896\n",
       "429888     1.687896\n",
       "1089771    1.687896\n",
       "973516     1.687896\n",
       "502951     1.687896\n",
       "180221     1.687896\n",
       "355827     1.687896\n",
       "Name: Age, dtype: float64"
      ]
     },
     "execution_count": 31,
     "metadata": {},
     "output_type": "execute_result"
    }
   ],
   "source": [
    "st.zscore(train_df[\"Age\"], nan_policy='omit').sort_values(ascending=False).head(10)"
   ]
  },
  {
   "cell_type": "code",
   "execution_count": null,
   "id": "b4004314-df5f-4291-95c2-44d135307b21",
   "metadata": {},
   "outputs": [],
   "source": []
  },
  {
   "cell_type": "code",
   "execution_count": null,
   "id": "4cadc575-bc9d-4be7-b14b-e7e2fc4de7b9",
   "metadata": {},
   "outputs": [],
   "source": []
  },
  {
   "cell_type": "code",
   "execution_count": null,
   "id": "2acf8ce5-3615-4de5-b09b-66bf93bd0449",
   "metadata": {},
   "outputs": [],
   "source": []
  },
  {
   "cell_type": "code",
   "execution_count": null,
   "id": "bd1fdec7-3edf-4bef-9bdf-752f5498673d",
   "metadata": {},
   "outputs": [],
   "source": []
  },
  {
   "cell_type": "code",
   "execution_count": null,
   "id": "3d7e4d17-ebb7-40e0-815e-c01ca8be432b",
   "metadata": {},
   "outputs": [],
   "source": []
  },
  {
   "cell_type": "code",
   "execution_count": null,
   "id": "cf3a9aa0-2233-431e-b2b1-53dde054f94f",
   "metadata": {},
   "outputs": [],
   "source": []
  },
  {
   "cell_type": "code",
   "execution_count": null,
   "id": "ab17baa3-2499-417d-9e3a-3759d25e8340",
   "metadata": {},
   "outputs": [],
   "source": []
  },
  {
   "cell_type": "code",
   "execution_count": null,
   "id": "e24410cc-769f-4c11-bd7d-d135547d1f46",
   "metadata": {},
   "outputs": [],
   "source": []
  },
  {
   "cell_type": "code",
   "execution_count": null,
   "id": "90e6d702-1f13-482b-8449-b418d87cb148",
   "metadata": {},
   "outputs": [],
   "source": []
  },
  {
   "cell_type": "markdown",
   "id": "34e5f11c-fc81-4c32-aaa5-5515fb8a0064",
   "metadata": {},
   "source": [
    "id                        int64\n",
    "Age                     float64\n",
    "Annual Income           float64\n",
    "Number of Dependents    float64\n",
    "Health Score            float64\n",
    "Previous Claims         float64\n",
    "Vehicle Age             float64\n",
    "Credit Score            float64\n",
    "Insurance Duration      float64\n",
    "Premium Amount          float64\n",
    "dtype: object"
   ]
  },
  {
   "cell_type": "code",
   "execution_count": 43,
   "id": "9dfa6f6e-0d07-4e78-9ee7-49ceead5602c",
   "metadata": {},
   "outputs": [
    {
     "data": {
      "text/plain": [
       "<Axes: xlabel='Premium Amount', ylabel='Count'>"
      ]
     },
     "execution_count": 43,
     "metadata": {},
     "output_type": "execute_result"
    },
    {
     "data": {
      "image/png": "[encoded data removed]",
      "text/plain": [
       "<Figure size 640x480 with 1 Axes>"
      ]
     },
     "metadata": {},
     "output_type": "display_data"
    }
   ],
   "source": [
    "sns.histplot(train_df[\"Premium Amount\"], bins=100)"
   ]
  },
  {
   "cell_type": "code",
   "execution_count": null,
   "id": "d1b21c6d-fb60-4def-b62e-d9e44e71d12f",
   "metadata": {},
   "outputs": [],
   "source": []
  }
 ],
 "metadata": {
  "kernelspec": {
   "display_name": "Python 3 (ipykernel)",
   "language": "python",
   "name": "python3"
  },
  "language_info": {
   "codemirror_mode": {
    "name": "ipython",
    "version": 3
   },
   "file_extension": ".py",
   "mimetype": "text/x-python",
   "name": "python",
   "nbconvert_exporter": "python",
   "pygments_lexer": "ipython3",
   "version": "3.13.0"
  },
  "widgets": {
   "application/vnd.jupyter.widget-state+json": {
    "state": {},
    "version_major": 2,
    "version_minor": 0
   }
  }
 },
 "nbformat": 4,
 "nbformat_minor": 5
}
